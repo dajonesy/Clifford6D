{
 "cells": [
  {
   "cell_type": "markdown",
   "id": "b68a3d74",
   "metadata": {},
   "source": [
    "## Comparing Matlab\n",
    "\n",
    "<!--  \n",
    "2025.07.31 DAJones: Copied to AACA folder \n",
    "-->\n",
    "\n",
    "Sangwine and Hitzer have a [MATLAB toolbox for numerical Clifford algebra](https://clifford-multivector-toolbox.sourceforge.io/).  I have used this toolkit to standardize the performance of my home-grown numerical Clifford algebra platform in python.  My original ideas of implementing signature did not result in a method which demonstrated the applicability of the Acus and Dargus algorithm in all signatures.  To remedy this, I've adapted my routines to produce signature multiplication tables which agree with the MATLAB implementation.  \n",
    "\n",
    "I will have more to say about this at a later time, but for now, to make my \"data\" available for academic approval and publish, what I call, \"a beautiful algorithm\" I am including this in an repository.\n",
    "\n",
    "I have worried a lot over whether it might be necessary to modify how the reverse works under signature.\n",
    "Sangwine code does not show any difference in how reverse works over signature, and can be based firmly on grade,\n",
    "counting unit increase in grade without regard to signature of the elements.\n"
   ]
  },
  {
   "cell_type": "code",
   "execution_count": 1,
   "id": "cfd75471",
   "metadata": {},
   "outputs": [],
   "source": [
    "# Sangwine keeps his negative signatures in the high order elements.\n",
    "# That mirrors the conventional order for specifying Cl(p,q), positive then negative.\n",
    "# The Jones implementation uses a mask as the most general way to mark the negative signature elements.\n",
    "# So these are the signatures compatible with Sangwine's implementation\n",
    "\n",
    "Cl_6_0 = 0b000000\n",
    "Cl_5_1 = 0b100000\n",
    "Cl_4_2 = 0b110000\n",
    "Cl_3_3 = 0b111000\n",
    "Cl_2_4 = 0b111100\n",
    "Cl_1_5 = 0b111110\n",
    "Cl_0_6 = 0b111111\n"
   ]
  },
  {
   "cell_type": "code",
   "execution_count": 2,
   "id": "cd3f307e-8e18-43ee-93ea-d3b03f2d49ef",
   "metadata": {},
   "outputs": [
    {
     "name": "stdout",
     "output_type": "stream",
     "text": [
      " e0    e1    e2    e3    e4    e12   e13   e14   e23   e24   e34   e123  e124  e134  e234  e1234\n",
      " e1    e0    e12   e13   e14   e2    e3    e4    e123  e124  e134  e23   e24   e34   e1234 e234 \n",
      " e2   -e12   e0    e23   e24  -e1   -e123 -e124  e3    e4    e234 -e13  -e14  -e1234 e34  -e134 \n",
      " e3   -e13  -e23  -e0    e34   e123  e1   -e134  e2   -e234 -e4   -e12   e1234 e14   e24  -e124 \n",
      " e4   -e14  -e24  -e34  -e0    e124  e134  e1    e234  e2    e3   -e1234-e12  -e13  -e23   e123 \n",
      " e12  -e2    e1    e123  e124 -e0   -e23  -e24   e13   e14   e1234-e3   -e4   -e234  e134 -e34  \n",
      " e13  -e3   -e123 -e1    e134  e23   e0   -e34   e12  -e1234-e14  -e2    e234  e4    e124 -e24  \n",
      " e14  -e4   -e124 -e134 -e1    e24   e34   e0    e1234 e12   e13  -e234 -e2   -e3   -e123  e23  \n",
      " e23   e123 -e3   -e2    e234 -e13  -e12   e1234 e0   -e34  -e24   e1   -e134 -e124  e4    e14  \n",
      " e24   e124 -e4   -e234 -e2   -e14  -e1234-e12   e34   e0    e23   e134  e1    e123 -e3   -e13  \n",
      " e34   e134  e234  e4   -e3    e1234 e14  -e13   e24  -e23  -e0    e124 -e123 -e1   -e2   -e12  \n",
      " e123  e23  -e13  -e12   e1234-e3   -e2    e234  e1   -e134 -e124  e0   -e34  -e24   e14   e4   \n",
      " e124  e24  -e14  -e1234-e12  -e4   -e234 -e2    e134  e1    e123  e34   e0    e23  -e13  -e3   \n",
      " e134  e34   e1234 e14  -e13   e234  e4   -e3    e124 -e123 -e1    e24  -e23  -e0   -e12  -e2   \n",
      " e234 -e1234 e34   e24  -e23  -e134 -e124  e123  e4   -e3   -e2   -e14   e13   e12  -e0    e1   \n",
      " e1234-e234  e134  e124 -e123 -e34  -e24   e23   e14  -e13  -e12  -e4    e3    e2   -e1    e0   \n"
     ]
    }
   ],
   "source": [
    "# build a sign table to compare with Sangwine\n",
    "# Cl(2,2) is a good choice\n",
    "import Clifford\n",
    "\n",
    "Clifford.Initialize( 4, 0b1100 ) # putting the negative signature in the high order bits\n",
    "\n",
    "# names by my lexical order -- that is these are names associated with indecies of Reg[] in order.\n",
    "# the advantage of this element order is it includes an order by increasing dimension.\n",
    "Name = (\n",
    "    'e0   ' , # 0000\n",
    "    'e1   ' , # 0001\n",
    "    'e2   ' , # 0010\n",
    "    'e12  ' , # 0011\n",
    "    'e3   ' , # 0100\n",
    "    'e13  ' , # 0101\n",
    "    'e23  ' , # 0110\n",
    "    'e123 ' , # 0111\n",
    "    'e4   ' , # 1000\n",
    "    'e14  ' , # 1001\n",
    "    'e24  ' , # 1010\n",
    "    'e124 ' , # 1011\n",
    "    'e34  ' , # 1100\n",
    "    'e134 ' , # 1101\n",
    "    'e234 ' , # 1110\n",
    "    'e1234' ) # 1111    \n",
    "\n",
    "# Sangwine's order of elements in the multiplication table is first by grade, then lexical\n",
    "Order = (\n",
    "    0b0000,\n",
    "\n",
    "    0b0001,\n",
    "    0b0010,\n",
    "    0b0100,\n",
    "    0b1000,\n",
    "    \n",
    "    0b0011,\n",
    "    0b0101,\n",
    "    0b1001,\n",
    "    0b0110,\n",
    "    0b1010,\n",
    "    0b1100,\n",
    "    \n",
    "    0b0111,\n",
    "    0b1011,\n",
    "    0b1101,\n",
    "    0b1110,\n",
    "    \n",
    "    0b1111)\n",
    "\n",
    "# notice the transposition of i and j\n",
    "# when Sangwine is computing A * B, I'm computing B * A\n",
    "# this is a minor discrepancy I would prefer to keep because I prefer e1e0 > 0 to match bit significance\n",
    "def build_table():\n",
    "    for j in Order:\n",
    "        s = ''\n",
    "        for i in Order:\n",
    "            s += ' -'[ 1 & Clifford.swapCount(i,j) ] + Name[i^j]\n",
    "        print(s)\n",
    "    return\n",
    "\n",
    "build_table()\n"
   ]
  },
  {
   "cell_type": "markdown",
   "id": "ea5c060e",
   "metadata": {},
   "source": [
    "The Cl(2,2) multiplication table above matches that produced in MATLAB by typing:\n",
    "\n",
    "<pre>\n",
    "    clifford_signature(2,2)\n",
    "    clifford_signature\n",
    "</pre>\n"
   ]
  }
 ],
 "metadata": {
  "kernelspec": {
   "display_name": "Python 3 (ipykernel)",
   "language": "python",
   "name": "python3"
  },
  "language_info": {
   "codemirror_mode": {
    "name": "ipython",
    "version": 3
   },
   "file_extension": ".py",
   "mimetype": "text/x-python",
   "name": "python",
   "nbconvert_exporter": "python",
   "pygments_lexer": "ipython3",
   "version": "3.11.2"
  }
 },
 "nbformat": 4,
 "nbformat_minor": 5
}
